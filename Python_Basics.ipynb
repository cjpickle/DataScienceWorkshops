{
 "cells": [
  {
   "cell_type": "markdown",
   "metadata": {},
   "source": [
    "# Python and Jupyter Basics\n",
    "### Workshop 0 of DASIL's series on \"Data Science with Python\"\n",
    "### Created by Martin Pollack"
   ]
  },
  {
   "cell_type": "markdown",
   "metadata": {},
   "source": [
    "Welcome to the series!\n",
    "\n",
    "Right now you are looking at a Jupyter Notebook. This is a popular filetype for doing Data Science in Python, and we will be using it often.\n",
    "\n",
    "In \"code\" blocks you can write your actual Python code, and outputs coming from your code are printed out nicely at the end of each block. To run your code, just hit the arrow in the upper left corner of the code block.\n",
    "\n",
    "Then there are also \"markdown\" blocks for writing normal text to describe or give context for your code, like the one you are reading right now! There are lots of things you can do here to customize your text, but we will only briefly discuss one of them: headers.\n",
    "\n",
    "# If you put a single \"#\" before text, it will be a large header\n",
    "## With two \"#\" symbols, you get a medium-sized header\n",
    "### Three of them means you get a small header\n",
    "\n",
    "Blocks can be deleted by double-clicking on them and then clicking on the trash can icon in the top-right corner of the block.\n",
    "\n",
    "You can also change the order of blocks by clicking and dragging them past each other.\n",
    "\n",
    "And that's basically all you need to know about Jupyter Notebooks. In time you'll learn to love them as much as I do."
   ]
  },
  {
   "cell_type": "markdown",
   "metadata": {},
   "source": [
    "# Now let's get to Python!"
   ]
  },
  {
   "cell_type": "markdown",
   "metadata": {},
   "source": [
    "## Numbers"
   ]
  },
  {
   "cell_type": "markdown",
   "metadata": {},
   "source": [
    "Python can do basically anything a basic calculator can do.\n",
    "\n",
    "Typing numbers and basic arithmetic operations (+, -, *, /) we can do things like"
   ]
  },
  {
   "cell_type": "code",
   "execution_count": 4,
   "metadata": {},
   "outputs": [
    {
     "data": {
      "text/plain": [
       "2"
      ]
     },
     "execution_count": 4,
     "metadata": {},
     "output_type": "execute_result"
    }
   ],
   "source": [
    "1 + 1"
   ]
  },
  {
   "cell_type": "markdown",
   "metadata": {},
   "source": [
    "And the result of our addition is displayed below our code block.\n",
    "\n",
    "Some more special operations are ** for powers, // for quotient division (divide and then round down to the nearest integer), and % for remainder"
   ]
  },
  {
   "cell_type": "code",
   "execution_count": 7,
   "metadata": {},
   "outputs": [
    {
     "data": {
      "text/plain": [
       "1"
      ]
     },
     "execution_count": 7,
     "metadata": {},
     "output_type": "execute_result"
    }
   ],
   "source": [
    "2 ** 3\n",
    "\n",
    "2 // 3\n",
    "4 // 3\n",
    "\n",
    "10 % 3"
   ]
  },
  {
   "cell_type": "markdown",
   "metadata": {},
   "source": [
    "Notice that in this last code block we typed four expressions, each on their own line.\n",
    "\n",
    "However, Jupyter by default only returns the result of the last line of a code block. To make sure we see the results of doing all expressions, we can use Python's `print()` function. See below."
   ]
  },
  {
   "cell_type": "code",
   "execution_count": 8,
   "metadata": {},
   "outputs": [
    {
     "name": "stdout",
     "output_type": "stream",
     "text": [
      "8\n",
      "0\n",
      "1\n",
      "1\n"
     ]
    }
   ],
   "source": [
    "print(2 ** 3)\n",
    "\n",
    "print(2 // 3)\n",
    "print(4 // 3)\n",
    "\n",
    "print(10 % 3)"
   ]
  },
  {
   "cell_type": "markdown",
   "metadata": {},
   "source": [
    "So far we have only used integers, or numbers without decimal portions.\n",
    "\n",
    "But of course Python can also deal with numbers with decimals, and these numbers are called `floats`."
   ]
  },
  {
   "cell_type": "code",
   "execution_count": 14,
   "metadata": {},
   "outputs": [
    {
     "name": "stdout",
     "output_type": "stream",
     "text": [
      "1.71\n"
     ]
    }
   ],
   "source": [
    "print(1.7 + 0.01)"
   ]
  },
  {
   "cell_type": "markdown",
   "metadata": {},
   "source": [
    "##### Exercise\n",
    "Use the `print()` function to output the result of dividing 5 by 7."
   ]
  },
  {
   "cell_type": "markdown",
   "metadata": {},
   "source": [
    "## Strings"
   ]
  },
  {
   "cell_type": "markdown",
   "metadata": {},
   "source": [
    "Another common data type in Python is Strings, or a sequence of characters. These are surrounded by \"\".\n",
    "Below are some examples."
   ]
  },
  {
   "cell_type": "code",
   "execution_count": 19,
   "metadata": {},
   "outputs": [
    {
     "name": "stdout",
     "output_type": "stream",
     "text": [
      "123\n",
      "abc\n"
     ]
    }
   ],
   "source": [
    "print(\"123\")\n",
    "print(\"abc\")"
   ]
  },
  {
   "cell_type": "markdown",
   "metadata": {},
   "source": [
    "You can create new strings by putting together two other strings. This is done with the `+` operator."
   ]
  },
  {
   "cell_type": "code",
   "execution_count": 23,
   "metadata": {},
   "outputs": [
    {
     "name": "stdout",
     "output_type": "stream",
     "text": [
      "String1&String2\n"
     ]
    }
   ],
   "source": [
    "print(\"String1\" + \"&\" + \"String2\")"
   ]
  },
  {
   "cell_type": "markdown",
   "metadata": {},
   "source": [
    "Python also makes it easy to choose specific characters from a string.\n",
    "\n",
    "This is done with square brackets `[]` right after a String.\n",
    "\n",
    "You can select an individual character by enclosing the index of that character in the brackets.\n",
    "\n",
    "NOTE: Python uses zero-indexing, meaning the first element has index 0, the second element has index 1, etc."
   ]
  },
  {
   "cell_type": "code",
   "execution_count": 31,
   "metadata": {},
   "outputs": [
    {
     "name": "stdout",
     "output_type": "stream",
     "text": [
      "a\n",
      "d\n"
     ]
    }
   ],
   "source": [
    "print(\"abcdefgh\"[0])\n",
    "print(\"abcdefgh\"[3])"
   ]
  },
  {
   "cell_type": "markdown",
   "metadata": {},
   "source": [
    "You can also select a range of characters. \n",
    "\n",
    "In the square brackets type the index of the first character you want to choose, then a colon `:`, then one more than the index of the last character you want.\n",
    "\n",
    "This ensures that the difference of the second number you type and the first number you type is the number of characters returned."
   ]
  },
  {
   "cell_type": "code",
   "execution_count": 33,
   "metadata": {},
   "outputs": [
    {
     "name": "stdout",
     "output_type": "stream",
     "text": [
      "ab\n",
      "defg\n"
     ]
    }
   ],
   "source": [
    "print(\"abcdefgh\"[0:2])\n",
    "print(\"abcdefgh\"[3:7])"
   ]
  },
  {
   "cell_type": "markdown",
   "metadata": {},
   "source": [
    "If you want your range to start from the beginning of the string, leave the first number blank. Similarly, if you want your range to go until the end of the string, leave the second number blank."
   ]
  },
  {
   "cell_type": "code",
   "execution_count": 37,
   "metadata": {},
   "outputs": [
    {
     "name": "stdout",
     "output_type": "stream",
     "text": [
      "fgh\n",
      "ab\n",
      "abcdefgh\n"
     ]
    }
   ],
   "source": [
    "print(\"abcdefgh\"[5:])\n",
    "print(\"abcdefgh\"[:2])\n",
    "print(\"abcdefgh\"[:])"
   ]
  },
  {
   "cell_type": "markdown",
   "metadata": {},
   "source": [
    "Also, you can start counting from the back of a String using a negative sign.\n",
    "\n",
    "So, for example, an index of -1 refers to the last character, and -2 refers to the second to last character."
   ]
  },
  {
   "cell_type": "code",
   "execution_count": 62,
   "metadata": {},
   "outputs": [
    {
     "name": "stdout",
     "output_type": "stream",
     "text": [
      "bcdefg\n",
      "b\n",
      "fg\n"
     ]
    }
   ],
   "source": [
    "print(\"abcdefgh\"[1:-1])\n",
    "print(\"abcdefgh\"[1:-6])\n",
    "print(\"abcdefgh\"[-3:-1])"
   ]
  },
  {
   "cell_type": "markdown",
   "metadata": {},
   "source": [
    "##### Exercise\n",
    "Pring out the results of joining the Strings \"Hello\" and \" World\" together and then selecting first five characters of the new combined String."
   ]
  },
  {
   "cell_type": "markdown",
   "metadata": {},
   "source": [
    "## Booleans"
   ]
  },
  {
   "cell_type": "markdown",
   "metadata": {},
   "source": [
    "Another important data type is the boolean, which is either the value `True` or the value `False`.\n",
    "These are typed without quotes, differentiating them from Strings."
   ]
  },
  {
   "cell_type": "code",
   "execution_count": 41,
   "metadata": {},
   "outputs": [
    {
     "name": "stdout",
     "output_type": "stream",
     "text": [
      "True\n",
      "False\n"
     ]
    }
   ],
   "source": [
    "print(True)\n",
    "print(False)"
   ]
  },
  {
   "cell_type": "markdown",
   "metadata": {},
   "source": [
    "Booleans are usually seen as the result of some sort of test.\n",
    "\n",
    "To test for equality of numbers and strings, make sure to use two equal signs `==`. Then testing if things are NOT equal uses the operator `!=`.\n",
    "\n",
    "We can compare them using the following symbols: `<`, `<=`, `>`, `>=`. For numbers the meanings of these comparators is straight forward. For strings, it ignores case and looks at the alphabetically order of the characters, and non-alphabetic characters are considered less than alphabetic characters."
   ]
  },
  {
   "cell_type": "code",
   "execution_count": 69,
   "metadata": {},
   "outputs": [
    {
     "name": "stdout",
     "output_type": "stream",
     "text": [
      "False\n",
      "False\n",
      "True\n",
      "True\n",
      "True\n",
      "True\n"
     ]
    }
   ],
   "source": [
    "print(1 == 2)\n",
    "print(1 != 2)\n",
    "\n",
    "print('a' < 'b')\n",
    "print('A' < 'b')\n",
    "\n",
    "print('1' <= 'a')"
   ]
  },
  {
   "cell_type": "markdown",
   "metadata": {},
   "source": [
    "Sometimes it is also helpful to chain together multiple tests into one large test. For that we can use the logical operators `and` as well as `or`.\n",
    "\n",
    "Then `(test1) and (test2)` is `True` if and only if both `test1` and `test2` are true. If at least one of `test1` or `test2` is false, then the overall test is `False`.\n",
    "\n",
    "Next consider `(test1) or (test2)`. The overall test is `True` if and only if both at least one of `test1` or `test2` is `True`. Only if both `test1` and `test2` are `False`, then the overall test is `False`."
   ]
  },
  {
   "cell_type": "code",
   "execution_count": 80,
   "metadata": {},
   "outputs": [
    {
     "name": "stdout",
     "output_type": "stream",
     "text": [
      "True\n",
      "False\n",
      "True\n",
      "False\n"
     ]
    }
   ],
   "source": [
    "print((1 == 1) and (2 != 1))\n",
    "print((5 > 1) and (5 < 1))\n",
    "\n",
    "print((\"Test\" == \"Test\") or (\"Test\" != \"Test\"))\n",
    "print((\"1\" > \"2\") and (\"1\" >= \"2\"))"
   ]
  },
  {
   "cell_type": "markdown",
   "metadata": {},
   "source": [
    "When comparing booleans, things are a little different.\n",
    "\n",
    "Instead of using `==` to test for equality, we use the keyword `is`. Also, instead of using `!=` for inequality, we use the two keywords `is not`."
   ]
  },
  {
   "cell_type": "code",
   "execution_count": 81,
   "metadata": {},
   "outputs": [
    {
     "name": "stdout",
     "output_type": "stream",
     "text": [
      "True\n",
      "True\n"
     ]
    }
   ],
   "source": [
    "print(True is True)\n",
    "print(True is not False)"
   ]
  },
  {
   "cell_type": "markdown",
   "metadata": {},
   "source": [
    "## Variables"
   ]
  },
  {
   "cell_type": "markdown",
   "metadata": {},
   "source": [
    "So far we have only used various data types once. But for most applications we will want to save values to use later.\n",
    "\n",
    "This is what variables are for. They give a name to a piece of data so you can refer to or alter it later.\n",
    "\n",
    "Just put the name of the variable you want to create, an equal sign, and the piece of data you want to be referenced by your variable."
   ]
  },
  {
   "cell_type": "code",
   "execution_count": 57,
   "metadata": {},
   "outputs": [
    {
     "name": "stdout",
     "output_type": "stream",
     "text": [
      "5\n"
     ]
    }
   ],
   "source": [
    "var1 = 1\n",
    "var1 = var1 + 1\n",
    "\n",
    "var2 = 3\n",
    "\n",
    "sum = var1 + var2\n",
    "print(sum)"
   ]
  },
  {
   "cell_type": "markdown",
   "metadata": {},
   "source": [
    "Python is a dynamically typed language, meaning you do not have to explicitly say what type of data a variable references. This also means that a variable is very flexible and can change its type whenever you want."
   ]
  },
  {
   "cell_type": "code",
   "execution_count": 56,
   "metadata": {},
   "outputs": [
    {
     "name": "stdout",
     "output_type": "stream",
     "text": [
      "1\n",
      "one\n"
     ]
    }
   ],
   "source": [
    "num = 1\n",
    "print(num)\n",
    "num = \"one\"\n",
    "print(num)"
   ]
  },
  {
   "cell_type": "markdown",
   "metadata": {},
   "source": [
    "## Commenting your code\n",
    "\n",
    "Our code is becoming slightly more and more complex. This means that when we come back and look at it later, or if we share our code with someone else, we need to make sure it is properly understood.\n",
    "\n",
    "This is where commenting is super important. Instead of just writing code we can describe what code does, and usually we do this right above a piece of code.\n",
    "\n",
    "If you write a `#` symbol on the start of a line in a code block, everything after that symbol will be interpreted by Python as a comment. This means that it will not try to run the text as code. As you can see below, if you forget the `#` symbol, you will get an error message."
   ]
  },
  {
   "cell_type": "code",
   "execution_count": 59,
   "metadata": {},
   "outputs": [
    {
     "ename": "SyntaxError",
     "evalue": "invalid syntax (762433041.py, line 2)",
     "output_type": "error",
     "traceback": [
      "\u001b[0;36m  File \u001b[0;32m\"/var/folders/1y/47pck5g94bs8z87mhsrjyfl00000gp/T/ipykernel_69105/762433041.py\"\u001b[0;36m, line \u001b[0;32m2\u001b[0m\n\u001b[0;31m    This is not a comment\u001b[0m\n\u001b[0m                        ^\u001b[0m\n\u001b[0;31mSyntaxError\u001b[0m\u001b[0;31m:\u001b[0m invalid syntax\n"
     ]
    }
   ],
   "source": [
    "# This is a comment\n",
    "This is not a comment"
   ]
  },
  {
   "cell_type": "markdown",
   "metadata": {},
   "source": [
    "## Collections of data: Lists\n",
    "\n",
    "So far we have only looked at single pieces of data at a time, be that a single number or a single sequence of characters in the form of a String.\n",
    "\n",
    "But many times, especially for Data Science, we want to look at collections of multiple individual pieces of data.\n",
    "\n",
    "One of the simplest forms of collections is a list. It is a one-dimensional collection with a finite number of values that are ordered. The same value can appear multiple times in a list.\n",
    "\n",
    "Lists are created by typing square brackets `[]` with the individual values separated by commas."
   ]
  },
  {
   "cell_type": "code",
   "execution_count": 94,
   "metadata": {},
   "outputs": [
    {
     "name": "stdout",
     "output_type": "stream",
     "text": [
      "[1, 2, 5, 7]\n",
      "[1, 'one', '1']\n"
     ]
    }
   ],
   "source": [
    "# make a list of just numbers\n",
    "nums = [1, 2, 5, 7]\n",
    "print(nums)\n",
    "\n",
    "# make list of different types\n",
    "otherList = [1, \"one\", \"1\"]\n",
    "print(otherList)"
   ]
  },
  {
   "cell_type": "markdown",
   "metadata": {},
   "source": [
    "Accessing and changing elements of a list uses a fairly similar strategy to accessing individual characters in a String from before.\n",
    "\n",
    "Directly after an actual list or a variable referencing a list, use square brackets and indices to select values from the list."
   ]
  },
  {
   "cell_type": "code",
   "execution_count": 92,
   "metadata": {},
   "outputs": [
    {
     "name": "stdout",
     "output_type": "stream",
     "text": [
      "1\n",
      "banana\n"
     ]
    }
   ],
   "source": [
    "# get first element from list created above\n",
    "print(nums[0])\n",
    "\n",
    "# get second element from a new list\n",
    "print([\"apple\", \"banana\", \"cherry\"][1])"
   ]
  }
 ],
 "metadata": {
  "interpreter": {
   "hash": "31f2aee4e71d21fbe5cf8b01ff0e069b9275f58929596ceb00d14d90e3e16cd6"
  },
  "kernelspec": {
   "display_name": "Python 3.7.3 64-bit",
   "language": "python",
   "name": "python3"
  },
  "language_info": {
   "codemirror_mode": {
    "name": "ipython",
    "version": 3
   },
   "file_extension": ".py",
   "mimetype": "text/x-python",
   "name": "python",
   "nbconvert_exporter": "python",
   "pygments_lexer": "ipython3",
   "version": "3.7.3"
  },
  "orig_nbformat": 4
 },
 "nbformat": 4,
 "nbformat_minor": 2
}
